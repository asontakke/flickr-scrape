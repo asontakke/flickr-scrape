{
 "cells": [
  {
   "cell_type": "code",
   "execution_count": 1,
   "metadata": {
    "collapsed": true
   },
   "outputs": [],
   "source": [
    "# Scrapes Flickr for pictures or videos\n",
    "\n",
    "import flickrapi, json, urllib, os, pandas as pd, time\n",
    "from multiprocessing.dummy import Pool as ThreadPool\n",
    "\n",
    "config = json.load(open('config/config.json')) # Make sure to git ignore\n",
    "API_KEY = config['flickr_api_key']\n",
    "API_SECRET = config['flickr_api_secret']\n",
    "\n",
    "# Initialize flickr session\n",
    "flickr = flickrapi.FlickrAPI(API_KEY, API_SECRET, cache = False, format='parsed-json')"
   ]
  },
  {
   "cell_type": "code",
   "execution_count": null,
   "metadata": {
    "collapsed": true
   },
   "outputs": [],
   "source": [
    "# Done separately because flickr doesn't support extras for video\n",
    "# Looks for pictures that have been geocoded\n",
    "def search_photo(keyword,latitude,longitude,distance):\n",
    "    obj = flickr.photos.search(text=keyword,tags=keyword,has_geo='1',lat=latitude,lon=longitude,radius=distance,\n",
    "                               radius_units='mi',sort=\"relevance\",extras='url_o,date_taken',\n",
    "                               media='photo',license='1,2,4,5', min_upload_date='2017-01-01',per_page=50) #'photo' or 'videos'\n",
    "    return obj\n",
    "\n",
    "# Return lat and lon of photo\n",
    "def get_photo_loc(p_id):\n",
    "    obj = flickr.photos.geo.getLocation(photo_id=p_id)\n",
    "    return obj['photo']['location']['longitude'], obj['photo']['location']['latitude']\n",
    "\n",
    "# Make directory to store data\n",
    "def make_dir(keyword):\n",
    "    if not os.path.exists(keyword):\n",
    "        os.makedirs(keyword)\n",
    "\n",
    "# Return user info\n",
    "def get_user(u_id):\n",
    "    obj = flickr.people.getInfo(user_id=u_id)\n",
    "    return obj['person']['profileurl']['_content'], obj['person']['username']['_content']\n",
    "\n",
    "# Delete extranous columns\n",
    "def del_column(df):\n",
    "    columns_to_delete = ['height_o','farm','isfamily','isfriend','ispublic','secret','server','width_o', 'datetakengranularity','datetakenunknown']      \n",
    "    for col in columns_to_delete:\n",
    "        try:\n",
    "            del df[col]\n",
    "        except:\n",
    "            print(\"{0} doesn't exist\".format(col))\n",
    "            \n",
    "# Augment json with additional info            \n",
    "def augment(x):\n",
    "    x['profile_url'], x['username'] = get_user(x.get('owner'))\n",
    "    x['longitude'], x['latitude'] = get_photo_loc(x.get('id'))\n",
    "    \n",
    "# Download images\n",
    "def download_image(x):\n",
    "    try:\n",
    "        urllib.urlretrieve(x['url_o'], '{0}/{1}.jpg'.format(x['keyword'],x['id']))\n",
    "        return('success')\n",
    "    except:           \n",
    "        return('failed to download {0}.jpg'.format(x['id']))\n",
    "    \n",
    "# Orchestrates workers\n",
    "def orchestrate(x):\n",
    "    del_column(x)\n",
    "    augment(x)\n",
    "    download_image(x)"
   ]
  },
  {
   "cell_type": "code",
   "execution_count": null,
   "metadata": {
    "collapsed": true
   },
   "outputs": [],
   "source": [
    "# Run process here\n",
    "# Input keyword, latitude, longitude, and radius\n",
    "word = 'dog' # Can't be None\n",
    "lat =  None # Can be None\n",
    "lon = None # Can be None\n",
    "r = None # Can be None\n",
    "\n",
    "# Start timer\n",
    "start = time.time() \n",
    "\n",
    "# Make directory (if needed)\n",
    "search_results = make_dir(word)\n",
    "\n",
    "# Search results\n",
    "search_results = search_photo(word, latitude = lat, longitude = lon, distance = r)\n",
    "\n",
    "# Create list from dict to feed into parallel processing\n",
    "z = []\n",
    "for s in search_results['photos']['photo']:\n",
    "    s['keyword'] = word\n",
    "    z.append(s)\n",
    "    \n",
    "# Orchestrate\n",
    "start = time.time()\n",
    "pool = ThreadPool(13)\n",
    "results = pool.map(orchestrate, z)\n",
    "print('Time to complete: {0}'.format(round(time.time()-start,2)))\n",
    "pool.close()\n",
    "pool.join()\n",
    "    \n",
    "df = pd.DataFrame(z)\n",
    "df.to_csv('{0}/{1}.csv'.format(word,word),index=False, encoding='utf-8')"
   ]
  }
 ],
 "metadata": {
  "kernelspec": {
   "display_name": "Python 2",
   "language": "python",
   "name": "python2"
  },
  "language_info": {
   "codemirror_mode": {
    "name": "ipython",
    "version": 2
   },
   "file_extension": ".py",
   "mimetype": "text/x-python",
   "name": "python",
   "nbconvert_exporter": "python",
   "pygments_lexer": "ipython2",
   "version": "2.7.13"
  }
 },
 "nbformat": 4,
 "nbformat_minor": 2
}
